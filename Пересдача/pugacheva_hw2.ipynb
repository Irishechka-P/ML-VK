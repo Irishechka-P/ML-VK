{
  "cells": [
    {
      "cell_type": "markdown",
      "metadata": {
        "id": "fMot0aKNYJxH"
      },
      "source": [
        "# Алгоритмы интеллектуальной обработки больших объемов данных\n",
        "## Домашнее задание №2: Линейные модели\n"
      ]
    },
    {
      "cell_type": "markdown",
      "metadata": {
        "id": "QXwHeH8CYJxN"
      },
      "source": [
        "**Общая информация**\n",
        "\n",
        "**Срок сдачи:** 25 апреля 18:00 Сдача **очная** на онлайн занятии.\n",
        "\n",
        "\n",
        "Используйте данный Ipython Notebook при оформлении домашнего задания.\n",
        "\n",
        "Присылать ДЗ необходимо в виде ссылки на свой github репозиторий на почту ml1.sphere@mail.ru с указанием темы в следующем формате:\n",
        "\n",
        "[ML0422, Задание 2] Фамилия Имя.\n",
        "\n",
        "\n",
        "\n",
        "**Штрафные баллы:**\n",
        "\n",
        "1. Невыполнение PEP8 -1 балл\n",
        "2. Отсутствие фамилии в имени скрипта (скрипт должен называться по аналогии со stroykova_hw2.ipynb) -1 балл\n",
        "3. Все строчки должны быть выполнены. Нужно, чтобы output команды можно было увидеть уже в git'е. В противном случае -1 балл\n",
        "4. При оформлении ДЗ нужно пользоваться данным файлом в качестве шаблона. Не нужно удалять и видоизменять написанный код и текст, если явно не указана такая возможность. В противном случае -1 балл\n",
        "<hr\\>"
      ]
    },
    {
      "cell_type": "code",
      "execution_count": 1,
      "metadata": {
        "tags": [],
        "id": "LLeoCJ9_YJxO"
      },
      "outputs": [],
      "source": [
        "import pandas as pd\n",
        "import numpy as np\n",
        "import matplotlib.pyplot as plt\n",
        "\n",
        "%matplotlib inline\n",
        "\n",
        "plt.style.use('ggplot')\n",
        "plt.rcParams['figure.figsize'] = (12,5)"
      ]
    },
    {
      "cell_type": "code",
      "execution_count": 2,
      "metadata": {
        "id": "C5n1cuhgYJxQ"
      },
      "outputs": [],
      "source": [
        "import random"
      ]
    },
    {
      "cell_type": "code",
      "execution_count": 3,
      "metadata": {
        "id": "FgKFk8T-YJxR"
      },
      "outputs": [],
      "source": [
        "random.seed(100)"
      ]
    },
    {
      "cell_type": "markdown",
      "metadata": {
        "id": "o9u7FLReYJxR"
      },
      "source": [
        "Здравствуйте, уважаемые студенты! \n",
        "\n",
        "В этом задании мы будем реализовать линейные модели. Необходимо реализовать линейную и логистическую регрессии с L2 регуляризацией"
      ]
    },
    {
      "cell_type": "markdown",
      "metadata": {
        "id": "iKA5VVHaYJxS"
      },
      "source": [
        "# Теоретическое введение\n",
        "\n"
      ]
    },
    {
      "cell_type": "markdown",
      "metadata": {
        "id": "XSucf8VnYJxS"
      },
      "source": [
        "Линейная регрессия решает задачу регрессии и оптимизирует функцию потерь MSE \n",
        "\n",
        "$$L(w) =  \\frac{1}{N}\\left[\\sum_i (y_i - a_i) ^ 2 \\right], $$ где $y_i$ $-$ целевая функция,  $a_i = a(x_i) =  \\langle\\,x_i,w\\rangle ,$ $-$ предсказание алгоритма на объекте $x_i$, $w$ $-$ вектор весов (размерности $D$), $x_i$ $-$ вектор признаков (такой же размерности $D$).\n",
        "\n",
        "Не забываем, что здесь и далее  мы считаем, что в $x_i$ есть тождественный вектор единиц, ему соответствует вес $w_0$.\n"
      ]
    },
    {
      "cell_type": "markdown",
      "metadata": {
        "id": "N0OZlg3vYJxT"
      },
      "source": [
        "Логистическая регрессия является линейным классификатором, который оптимизирует так называемый функционал log loss:"
      ]
    },
    {
      "cell_type": "markdown",
      "metadata": {
        "id": "UtWuAS-xYJxT"
      },
      "source": [
        "$$L(w) = - \\frac{1}{N}\\left[\\sum_i y_i \\log a_i + ( 1 - y_i) \\log (1 - a_i) \\right],$$\n",
        "где  $y_i  \\in \\{0,1\\}$ $-$ метка класса, $a_i$ $-$ предсказание алгоритма на объекте $x_i$. Модель пытается предсказать апостериорую вероятность объекта принадлежать к классу \"1\":\n",
        "$$ p(y_i = 1 | x_i) = a(x_i) =  \\sigma( \\langle\\,x_i,w\\rangle ),$$\n",
        "$w$ $-$ вектор весов (размерности $D$), $x_i$ $-$ вектор признаков (такой же размерности $D$).\n",
        "\n",
        "Функция $\\sigma(x)$ $-$ нелинейная функция, пероводящее скалярное произведение объекта на веса в число $\\in (0,1)$ (мы же моделируем вероятность все-таки!)\n",
        "\n",
        "$$\\sigma(x) = \\frac{1}{1 + \\exp(-x)}$$\n",
        "\n",
        "Если внимательно посмотреть на функцию потерь, то можно заметить, что в зависимости от правильного ответа алгоритм штрафуется или функцией $-\\log a_i$, или функцией $-\\log (1 - a_i)$.\n",
        "\n"
      ]
    },
    {
      "cell_type": "markdown",
      "metadata": {
        "id": "5wdXcH7dYJxU"
      },
      "source": [
        "Часто для решения проблем, которые так или иначе связаны с проблемой переобучения, в функционал качества добавляют слагаемое, которое называют ***регуляризацией***. Итоговый функционал для линейной регрессии тогда принимает вид:\n",
        "\n",
        "$$L(w) =  \\frac{1}{N}\\left[\\sum_i (y_i - a_i) ^ 2 \\right] + \\frac{1}{C}R(w) $$\n",
        "\n",
        "Для логистической: \n",
        "$$L(w) = - \\frac{1}{N}\\left[\\sum_i y_i \\log a_i + ( 1 - y_i) \\log (1 - a_i) \\right] +  \\frac{1}{C}R(w)$$\n",
        "\n",
        "Самое понятие регуляризации введено основателем ВМК академиком Тихоновым https://ru.wikipedia.org/wiki/Метод_регуляризации_Тихонова\n",
        "\n",
        "Идейно методика регуляризации заключается в следующем $-$ мы рассматриваем некорректно поставленную задачу (что это такое можно найти в интернете), для того чтобы сузить набор различных вариантов (лучшие из которых будут являться переобучением ) мы вводим дополнительные ограничения на множество искомых решений. На лекции Вы уже рассмотрели два варианта регуляризации.\n",
        "\n",
        "$L1$ регуляризация:\n",
        "$$R(w) = \\sum_{j=1}^{D}|w_j|$$\n",
        "$L2$ регуляризация:\n",
        "$$R(w) =  \\sum_{j=1}^{D}w_j^2$$\n",
        "\n",
        "С их помощью мы ограничиваем модель в  возможности выбора каких угодно весов минимизирующих наш лосс, модель уже не сможет подстроиться под данные как ей угодно. \n",
        "\n",
        "Вам нужно добавить соотвествущую Вашему варианту $L2$ регуляризацию.\n",
        "\n",
        "И так, мы поняли, какую функцию ошибки будем минимизировать, разобрались, как получить предсказания по объекту и обученным весам. Осталось разобраться, как получить оптимальные веса. Для этого нужно выбрать какой-то метод оптимизации.\n",
        "\n"
      ]
    },
    {
      "cell_type": "markdown",
      "metadata": {
        "id": "OgUrqqDYYJxV"
      },
      "source": [
        "Градиентный спуск является самым популярным алгоритмом обучения линейных моделей. В этом задании Вам предложат реализовать стохастический градиентный спуск или  мини-батч градиентный спуск (мини-батч на русский язык довольно сложно перевести, многие переводят это как \"пакетный\", но мне не кажется этот перевод удачным). Далее нам потребуется определение **эпохи**.\n",
        "Эпохой в SGD и MB-GD называется один проход по **всем** объектам в обучающей выборки.\n",
        "* В SGD градиент расчитывается по одному случайному объекту. Сам алгоритм выглядит примерно так:\n",
        "        1) Перемешать выборку\n",
        "        2) Посчитать градиент функции потерь на одном объекте (далее один объект тоже будем называть батчем)\n",
        "        3) Сделать шаг спуска\n",
        "        4) Повторять 2) и 3) пока не пройдет максимальное число эпох.\n",
        "* В Mini Batch SGD - по подвыборке объектов. Сам алгоритм выглядит примерно так::\n",
        "        1) Перемешать выборку, выбрать размер мини-батча (от 1 до размера выборки)\n",
        "        2) Почитать градиент функции потерь по мини-батчу (не забыть поделить на  число объектов в мини-батче)\n",
        "        3) Сделать шаг спуска\n",
        "        4) Повторять 2) и 3) пока не пройдет максимальное число эпох.\n",
        "* Для отладки алгоритма реализуйте возможность  вывода средней ошибки на обучении модели по объектам (мини-батчам). После шага градиентного спуска посчитайте значение ошибки на объекте (или мини-батче), а затем усредните, например, по ста шагам. Если обучение проходит корректно, то мы должны увидеть, что каждые 100 шагов функция потерь уменьшается. \n",
        "* Правило останова - максимальное количество эпох\n",
        "    \n"
      ]
    },
    {
      "cell_type": "markdown",
      "metadata": {
        "id": "K9uvD1JNYJxW"
      },
      "source": [
        "# Теоретические вопросы (2 балла)\n",
        "В этой части Вам будут предложены теоретичские вопросы и задачи по теме. Вы, конечно, можете списать их у своего товарища или найти решение в интернете, но учтите, что они обязательно войдут в теоретический коллоквиум. Лучше разобраться в теме сейчас и успешно ответить на коллоквиуме, чем списать, не разобравшись в материале, и быть терзаемым совестью. \n",
        "\n",
        "\n",
        "Формулы надо оформлять в формате **LaTeX**."
      ]
    },
    {
      "cell_type": "markdown",
      "metadata": {
        "id": "u8cOBEMCYJxX"
      },
      "source": [
        "Задача 1. Градиент для линейной регрессии.\n",
        "* Выпишите формулу обновления весов для линейной регрессии с L2 регуляризацией для мини-батч градиентого спуска размера $n$:\n",
        "\n",
        "$$ w_{new} = w_{old} - ... $$\n",
        "\n",
        " Отнеситесь к этому пункту максимально серьезно, это Вам нужно будет реализовать в задании.\n",
        " \n",
        "Проанализруйте итоговую формулу градиента - как  интуитивно можно  описать, чему равен градиент?"
      ]
    },
    {
      "cell_type": "markdown",
      "metadata": {
        "id": "fHEc_UfKYJxX"
      },
      "source": [
        "$$L(w) = \\dfrac{1}{N}\\sum_{i=1}^{N} \\widehat L_i (w, x_i, y_i), $$ где\n",
        "\n",
        "$$ \\widehat L_i(w, x_i, y_i) = (y_i - a_i) ^ 2  + \\dfrac{1}{C} R(w)$$\n",
        "\n",
        "Общая формула для обновления весов (мини-батч размера $n$, состоящий из подвыборки с индексами $i_1, \\ldots, i_n$):\n",
        "\n",
        "$$w_{new} = w_{old} - \\alpha \\dfrac{1}{n} \\sum_{k=1}^{n} \\nabla_w \\widehat L_{i_k}(w_{old}, x_{i_k}, y_{i_k}) .$$\n",
        "\n",
        "Легко видеть, что \n",
        "\n",
        "$$ \\dfrac{\\partial \\widehat L_{i_k}}{\\partial w_j} = - 2 \\, (y_{i_k} - a_{i_k}) \\, x_{i_k}^j + \\dfrac{1}{C} \\dfrac{\\partial R}{\\partial w_j},$$\n",
        "\n",
        "или в векторном виде:\n",
        "\n",
        "$$\\nabla_w \\widehat L_{i_k} = - 2 \\, (y_{i_k} - a_{i_k}) x_{i_k} +  \\dfrac{1}{C} \\nabla_w R.$$\n",
        "\n",
        "Следовательно, \n",
        "\n",
        "$$ w_{new} = w_{old} + 2\\alpha \\dfrac{1}{n} \\sum_{k=1}^{n}  (y_{i_k} - a_{i_k}) x_{i_k} -  \\alpha \\dfrac{1}{C} \\nabla_w R .$$\n",
        "\n",
        "#### Проанализируем формулу без учета регуляризации:\n",
        "#### Если $a_{i_k} < y_{i_k}$ (ответ слишком маленький), то происходит сдвиг весов в направлении $x_{i_k}$. Если $a_{i_k} > y_{i_k}$ (ответ слишком большой), то происходит сдвиг весов в направлении, противоположном $x_{i_k}$. Если $a_{i_k} = y_{i_k}$ (правильный ответ), то сдвига нет.\n",
        "\n",
        "При $R(w) =  \\sum_{j=0}^{D}w_j^2 :$\n",
        "\n",
        "$$ w_{new} = w_{old} + 2\\alpha \\dfrac{1}{n} \\sum_{k=1}^{n}  (y_{i_k} - a_{i_k}) x_{i_k} -  \\dfrac{2 \\alpha}{C} w_{old}  $$"
      ]
    },
    {
      "cell_type": "markdown",
      "metadata": {
        "id": "SFWanMtOYJxY"
      },
      "source": [
        "Задача 2. Градиент для логистической регрессии.\n",
        "* Выпишите формулу обновления весов для логистической регрессии с L2 регуляризацией  для мини-батч градиентого спуска размера $n$:\n",
        "\n",
        "$$ w_{new} = w_{old} - ... $$\n",
        "\n",
        " Отнеситесь к этому пункту максимально серьезно, это Вам нужно будет реализовать в задании.\n",
        " \n",
        "Проанализруйте итоговую формулу градиента - как  интуитивно можно  описать, чему равен градиент? Как соотносится этот градиент с градиентом, возникающий в задаче линейной регрессии?\n",
        "\n",
        "Подсказка: Вам градиент, которой получается если “в лоб” продифференцировать,  надо немного преобразовать.\n",
        "Надо подставить, что $1 - \\sigma(w,x) $ это  $1 - a(x_i)$, а  $-\\sigma(w,x)$ это $0 - a(x_i)$.  Тогда получится свести к одной красивой формуле с линейной регрессией, которую программировать будет намного проще."
      ]
    },
    {
      "cell_type": "markdown",
      "metadata": {
        "id": "_8U-ldxYYJxY"
      },
      "source": [
        "$$L(w) = \\dfrac{1}{N}\\sum_{i=1}^{N} \\widehat L_i (w, x_i, y_i), $$ где\n",
        "\n",
        "$$ \\widehat L_i(w, x_i, y_i) = - \\Big( y_i \\log a_i + (1 - y_i) \\log (1 - a_i) \\Big) + \\dfrac{1}{C} R(w)$$\n",
        "\n",
        "Общая формула для обновления весов (мини-батч размера $n$, состоящий из подвыборки с индексами $i_1, \\ldots, i_n$):\n",
        "\n",
        "$$w_{new} = w_{old} - \\alpha \\dfrac{1}{n} \\sum_{k=1}^{n} \\nabla_w \\widehat L_{i_k}(w_{old}, x_{i_k}, y_{i_k}) $$\n",
        "\n",
        "Найдем $ \\dfrac{\\partial \\widehat L_{i_k}}{\\partial w_j}.$\n",
        "Заметим, что\n",
        "\n",
        "$$\\dfrac{ \\partial \\sigma (t)}{ \\partial t}  = \\sigma(t) \\big( 1-\\sigma(t) \\big).$$\n",
        "\n",
        "Используя этот факт, установим равенство \n",
        "\n",
        "$$ \\dfrac{\\partial a_{i_k}}{\\partial w_j} = a_{i_k} (1-a_{i_k}) \\, x_{i_k}^j.$$\n",
        "\n",
        "Тогда \n",
        "\n",
        "$$ \\dfrac{\\partial \\widehat L_{i_k}}{\\partial w_j} = -(y_{i_k} - a_{i_k}) \\, x_{i_k}^j  + \\dfrac{1}{C} \\cdot \\dfrac{\\partial R}{\\partial w_j}$$\n",
        "\n",
        "или в векторном виде:\n",
        "\n",
        "$$ \\nabla_w \\widehat L_{i_k} = - (y_{i_k} - a_{i_k}) \\, x_{i_k} + \\dfrac{1}{C} \\nabla_w R .$$\n",
        "\n",
        "При $R(w) =  \\sum_{j=0}^{D}w_j^2 :$\n",
        "\n",
        "\n",
        "$$ \\nabla_w \\widehat L_{i_k} = - (y_{i_k} - a_{i_k}) \\, x_{i_k} + \\dfrac{2}{C} \\cdot w .$$\n",
        "\n",
        "Итого,\n",
        "\n",
        "\n",
        "$$w_{new} = w_{old} + \\alpha \\dfrac{1}{n} \\sum_{k=1}^{n} (y_{i_k} - a_{i_k}) \\, x_{i_k}  - \\dfrac{2 \\alpha }{C} \\cdot w_{old} $$\n",
        "\n",
        "#### Анализ формулы без учета регуляризации дает примерно то же самое, что в случае линейной регрессии, только разность $(y_{i_k} - a_{i_k})$ может принимать только значения из $(-1, 1)$."
      ]
    },
    {
      "cell_type": "markdown",
      "metadata": {
        "id": "X10isZWrYJxZ"
      },
      "source": [
        "Задача 3. Точное решение линейной регрессии\n",
        "\n",
        "На лекции было показано, что точное решение линейной регрессии имеет вид $w = (X^TX)^{-1}X^TY $. \n",
        "* Покажите, что это действительно является точкой минимума в случае, если матрица X имеет строк не меньше, чем столбцов и имеет полный ранг. Подсказка: посчитайте Гессиан и покажите, что в этом случае он положительно определен. \n",
        "* Выпишите точное решение для модели с $L2$ регуляризацией. Как L2 регуляризация помогает с точным решением где матрица X имеет линейно зависимые признаки?"
      ]
    },
    {
      "cell_type": "markdown",
      "metadata": {
        "id": "TNLtKaDMYJxa"
      },
      "source": [
        "1) $$Q(w) = \\dfrac{1}{N} \\sum_{i=1}^{N} \\big(\\langle x_i, w \\rangle - y_i\\big)^2,$$\n",
        "поэтому \n",
        "$$\\dfrac{\\partial Q}{\\partial w_k} =  \\dfrac{2}{N} \\sum_{i=1}^{N} \\big(\\langle x_i, w \\rangle - y_i\\big) \\, x_i^k, $$\n",
        "и\n",
        "$$ \\dfrac{\\partial ^2 Q}{ \\partial w_k \\partial w_j } = \\dfrac{2}{N} \\sum_{i=1}^N x_i^j x_i^k = \\dfrac{2}{N} \\langle x^k, x^j\\rangle,$$\n",
        "где $x^j$ - $j$-тый столбец матрицы X.\n",
        "\n",
        "То есть $\\nabla \\nabla Q = \\mathfrak{G} (x^1, \\ldots, x^D)$ - матрица Грама векторов-столбцов матрицы X.\n",
        "\n",
        "Если в матрице X строк не меньше, чем столбцов, и она имеет полный ранг (равный количеству столбцов), то столбцы матрицы X линейно независимы, и, следовательно, $\\mathfrak{G} (x^1, \\ldots, x^D) > 0$.\n",
        "\n",
        "\n",
        "2) Точное решение выглядит следующим образом:\n",
        "\n",
        "$$ w = \\big( X^T X + \\dfrac{N}{C} E \\big) ^{-1} X^T y.$$\n",
        "\n",
        "Поскольку $\\det \\big( X^T X + \\dfrac{N}{C} E \\big) = 0$ тогда и только тогда, когда $\\big(- \\dfrac{N}{C} \\big)$ является собственным значением матрицы $X^TX$ (а их конечное число), можно подобрать такое $C$ (например, \"достаточно малое\"), при котором матрица $X^T X + \\dfrac{N}{C} E$  будет обратима, а нам как раз этого хочется."
      ]
    },
    {
      "cell_type": "markdown",
      "metadata": {
        "id": "2Ohg7n9MYJxa"
      },
      "source": [
        "Задача 4.  Предсказываем вероятности.\n",
        "\n",
        "Когда говорят о логистической регрессии, произносят фразу, что она \"предсказывает вероятности положительного класса\". Давайте разберемся, что же за этим стоит. Посчитаем математическое ожидание функции потерь и проверим, что предсказание алгоритма, оптимизирующее это мат. ожидание, будет являться вероятностью положительного класса. \n",
        "\n",
        "Итак, функция потерь на объекте $x_i$, который имеет метку $y_i \\in \\{0,1\\}$  для предсказания $a(x_i)$ равна:\n",
        "$$L(y_i, b) =-[y_i == 1] \\log a(x_i)  - [y_i == 0] \\log(1 - a(x_i)) $$\n",
        "\n",
        "Где $[]$ означает индикатор $-$ он равен единице, если значение внутри него истинно, иначе он равен нулю. Тогда мат. ожидание при условии конкретного $x_i$  по определение мат. ожидания дискретной случайной величины:\n",
        "$$E(L | x_i) = -p(y_i = 1 |x_i ) \\log a(x_i)  - p(y_i = 0 | x_i) \\log( 1 - a(x_i))$$\n",
        "* Докажите, что значение $a(x_i)$, минимизирующее данное мат. ожидание, в точности равно $p(y_i = 1 |x_i)$, то есть равно вероятности положительного класса.\n",
        "\n",
        "Подсказка: возможно, придется воспользоваться, что  $p(y_i = 1 | x_i) + p(y_i = 0 | x_i) = 1$"
      ]
    },
    {
      "cell_type": "markdown",
      "metadata": {
        "id": "vLdvXwLeYJxb"
      },
      "source": [
        "Рассмотрим функцию $F_p(t) = -p \\log t - (1-p) log(1-t)$ и найдем ее точку минимума.\n",
        "\n",
        "$$F_p ' (t) = - \\dfrac{p}{t} + \\dfrac{1-p}{1-t} = \\dfrac{-p(1-t) + (1-p)t}{t(1-t)} = \\dfrac{t-p}{t(1-t)}.$$\n",
        " \n",
        "$$ F_p ''(t) = \\dfrac{t(1-t) + 2t(t-p)}{t^2 (1-t)^2} = \\dfrac{t(1-t) + 2t(t-p)}{t^2 (1-t)^2} = \\dfrac{(t + 1-2p)}{t (1-t)^2}.$$\n",
        "\n",
        "Мы видим, что $F_p ' (t) = 0$ при $t=p$, при этом $F_p ''(p) = \\dfrac{1}{p\\,(1-p)} > 0$ при $p \\in (0,1)$.\n",
        "\n",
        "Если подставить $a(x_i)$ вместо $t$ и $p(y_i = 1 | x_i)$ вместо $p$, то задача решена."
      ]
    },
    {
      "cell_type": "markdown",
      "metadata": {
        "id": "auEtkjZpYJxb"
      },
      "source": [
        "Задача 5.  Смысл регуляризации.\n",
        "\n",
        "Нужно ли в L1/L2 регуляризации использовать свободный член $w_0$ (который не умножается ни на какой признак)?\n",
        "\n",
        "Подсказка: подумайте, для чего мы вводим $w_0$"
      ]
    },
    {
      "cell_type": "markdown",
      "metadata": {
        "id": "IopYl0rOYJxc"
      },
      "source": [
        "Не нужно, а то сдвиги разделяющей гиперплоскости будут ограничены"
      ]
    },
    {
      "cell_type": "markdown",
      "metadata": {
        "id": "eHyUsdbyYJxc"
      },
      "source": [
        "#  Реализация линейной модели (4 балла)"
      ]
    },
    {
      "cell_type": "markdown",
      "metadata": {
        "id": "sCzPqDBjYJxd"
      },
      "source": [
        "## Зачем нужны батчи?\n"
      ]
    },
    {
      "cell_type": "markdown",
      "metadata": {
        "id": "oHM1uC6RYJxd"
      },
      "source": [
        "Как Вы могли заметить из теоретического введения, что в случае SGD, что в случа mini-batch GD,  на каждой итерации обновление весов  происходит только по небольшой части данных (1 пример в случае SGD, batch примеров в случае mini-batch). То есть для каждой итерации нам *** не нужна вся выборка***. Мы можем просто итерироваться по выборке, беря батч нужного размера (далее 1 объект тоже будем называть батчом).\n",
        "\n",
        "Легко заметить, что в этом случае нам не нужно загружать все данные в оперативную память, достаточно просто считать батч с диска, обновить веса, считать диска другой батч и так далее. В целях упрощения домашней работы, прямо с диска  мы считывать не будем, будем работать с обычными numpy array. \n",
        "\n",
        "\n",
        "\n"
      ]
    },
    {
      "cell_type": "markdown",
      "metadata": {
        "id": "3zjgr-LaYJxd"
      },
      "source": [
        "## Немножко про генераторы в Python\n",
        "\n"
      ]
    },
    {
      "cell_type": "markdown",
      "metadata": {
        "id": "mGmmmjhPYJxd"
      },
      "source": [
        "Идея считывания данных кусками удачно ложится на так называемые ***генераторы*** из языка Python. В данной работе Вам предлагается не только разобраться с логистической регрессией, но  и познакомиться с таким важным элементом языка.  При желании Вы можете убрать весь код, связанный с генераторами, и реализовать логистическую регрессию и без них, ***штрафоваться это никак не будет***. Главное, чтобы сама модель была реализована правильно, и все пункты были выполнены. \n",
        "\n",
        "Подробнее можно почитать вот тут https://anandology.com/python-practice-book/iterators.html\n"
      ]
    },
    {
      "cell_type": "markdown",
      "metadata": {
        "id": "kyXLiNSwYJxe"
      },
      "source": [
        "К генератору стоит относиться просто как к функции, которая порождает не один объект, а целую последовательность объектов. Новое значение из последовательности генерируется с помощью ключевого слова ***yield***. Ниже Вы можете насладиться  генератором чисел Фибоначчи."
      ]
    },
    {
      "cell_type": "code",
      "execution_count": null,
      "metadata": {
        "jupyter": {
          "outputs_hidden": true
        },
        "id": "h0cwVpIgYJxe"
      },
      "outputs": [],
      "source": [
        "def fib(max_iter=4):\n",
        "    a, b = 0, 1\n",
        "    iter_num = 0\n",
        "    while 1:\n",
        "        yield a\n",
        "        a, b = b, a + b\n",
        "        iter_num += 1\n",
        "        if iter_num == max_iter:\n",
        "            break"
      ]
    },
    {
      "cell_type": "markdown",
      "metadata": {
        "id": "imPm6D4MYJxf"
      },
      "source": [
        "Вот так можно сгенерировать последовательность Фибоначчи. \n",
        "\n",
        "Заметьте, что к генераторам можно применять некоторые стандартные функции из Python, например enumerate."
      ]
    },
    {
      "cell_type": "code",
      "execution_count": null,
      "metadata": {
        "colab": {
          "base_uri": "https://localhost:8080/"
        },
        "id": "4iTO0-BlYJxf",
        "outputId": "0837e3d0-fa19-4f27-84a6-2b42919d84c5"
      },
      "outputs": [
        {
          "output_type": "stream",
          "name": "stdout",
          "text": [
            "Fib num: 0 fib values: 0\n",
            "Fib num: 1 fib values: 1\n",
            "Fib num: 2 fib values: 1\n",
            "Fib num: 3 fib values: 2\n"
          ]
        }
      ],
      "source": [
        "new_generator = fib()\n",
        "for j, fib_val in enumerate(new_generator):\n",
        "    print (\"Fib num: \" + str(j) + \" fib values: \" + str(fib_val))"
      ]
    },
    {
      "cell_type": "markdown",
      "metadata": {
        "id": "2be5kyN0YJxg"
      },
      "source": [
        "Пересоздавая объект, можно сколько угодно раз генерировать заново последовательность. "
      ]
    },
    {
      "cell_type": "code",
      "execution_count": null,
      "metadata": {
        "colab": {
          "base_uri": "https://localhost:8080/"
        },
        "id": "AkMgDkJEYJxh",
        "outputId": "d0dd2a55-b0db-47e1-d151-a10fab7afeee"
      },
      "outputs": [
        {
          "output_type": "stream",
          "name": "stdout",
          "text": [
            "Fib num: 0 fib values: 0\n",
            "Fib num: 1 fib values: 1\n",
            "Fib num: 2 fib values: 1\n",
            "Fib num: 3 fib values: 2\n",
            "Fib num: 0 fib values: 0\n",
            "Fib num: 1 fib values: 1\n",
            "Fib num: 2 fib values: 1\n",
            "Fib num: 3 fib values: 2\n",
            "Fib num: 0 fib values: 0\n",
            "Fib num: 1 fib values: 1\n",
            "Fib num: 2 fib values: 1\n",
            "Fib num: 3 fib values: 2\n"
          ]
        }
      ],
      "source": [
        "for i in range(0, 3):\n",
        "    new_generator = fib()\n",
        "    for j, fib_val in enumerate(new_generator):\n",
        "        print (\"Fib num: \" + str(j) + \" fib values: \" + str(fib_val))"
      ]
    },
    {
      "cell_type": "markdown",
      "metadata": {
        "id": "5EI2-Ws1YJxh"
      },
      "source": [
        "А вот так уже нельзя."
      ]
    },
    {
      "cell_type": "code",
      "execution_count": null,
      "metadata": {
        "colab": {
          "base_uri": "https://localhost:8080/"
        },
        "id": "vtqYlwAPYJxi",
        "outputId": "e51aba91-7290-49b8-8e27-906e3902ecdb"
      },
      "outputs": [
        {
          "output_type": "stream",
          "name": "stdout",
          "text": [
            "Fib num: 0 fib values: 0\n",
            "Fib num: 1 fib values: 1\n",
            "Fib num: 2 fib values: 1\n",
            "Fib num: 3 fib values: 2\n"
          ]
        }
      ],
      "source": [
        "new_generator = fib()\n",
        "for i in range(0, 3):\n",
        "    for j, fib_val in enumerate(new_generator):\n",
        "        print (\"Fib num: \" + str(j) + \" fib values: \" + str(fib_val))"
      ]
    },
    {
      "cell_type": "markdown",
      "metadata": {
        "id": "jTci9spzYJxj"
      },
      "source": [
        "Концепция крайне удобная для обучения  моделей $-$ у Вас есть некий источник данных, который Вам выдает их кусками, и Вам совершенно все равно откуда он их берет. Под ним может скрывать как массив в оперативной памяти, как файл на жестком диске, так и SQL база данных. Вы сами данные никуда не сохраняете, оперативную память экономите."
      ]
    },
    {
      "cell_type": "markdown",
      "metadata": {
        "id": "lXz-egkXYJxj"
      },
      "source": [
        "Если Вам понравилась идея с генераторами, то Вы можете реализовать свой, используя прототип batch_generator. В нем Вам нужно выдавать батчи признаков и ответов для каждой новой итерации спуска. Если не понравилась идея, то можете реализовывать SGD или mini-batch GD без генераторов."
      ]
    },
    {
      "cell_type": "code",
      "execution_count": 4,
      "metadata": {
        "jupyter": {
          "outputs_hidden": true
        },
        "id": "co1xAS1YYJxk"
      },
      "outputs": [],
      "source": [
        "def batch_generator(X, y, shuffle=True, batch_size=2):\n",
        "    \"\"\"\n",
        "    Гератор новых батчей для обучения\n",
        "    X          - матрица объекты-признаки\n",
        "    y    - вектор ответов\n",
        "    shuffle    - нужно ли случайно перемешивать выборку\n",
        "    batch_size - размер батча ( 1 это SGD, > 1 mini-batch GD)\n",
        "    Генерирует подвыборку для итерации спуска (X_batch, y_batch)\n",
        "    \"\"\"       \n",
        "    indexes = np.arange(X.shape[0])\n",
        "\n",
        "    if shuffle:\n",
        "        np.random.shuffle(indexes)\n",
        "    \n",
        "    for i in range(0, len(y), batch_size):\n",
        "        idx = indexes[i: i + batch_size]\n",
        "        yield (X[idx], y[idx])\n",
        "        \n",
        "# Теперь можно сделать генератор по данным ()\n",
        "#  my_batch_generator = batch_generator(X, y, shuffle=True, batch_size=1):\n"
      ]
    },
    {
      "cell_type": "code",
      "execution_count": 40,
      "metadata": {
        "jupyter": {
          "outputs_hidden": true
        },
        "id": "2otwEK86YJxl"
      },
      "outputs": [],
      "source": [
        "#%%pycodestyle# \n",
        "from sklearn.base import BaseEstimator, ClassifierMixin\n",
        "\n",
        "def sigmoid(x):\n",
        "    \"\"\"\n",
        "    Вычисляем значение сигмоиды.\n",
        "    X - выход линейной модели\n",
        "    \"\"\"\n",
        "    sigm_value_x = 1 / (1 + np.exp(-x))\n",
        "    return sigm_value_x\n",
        "\n",
        "\n",
        "class MySGDClassifier(BaseEstimator, ClassifierMixin):\n",
        "        \n",
        "    def __init__(self, batch_generator, C=1, alpha=0.01, max_epoch=10, model_type='lin_reg'):\n",
        "        \"\"\"\n",
        "        batch_generator -- функция генератор, которой будем создавать батчи\n",
        "        C - коэф. регуляризации\n",
        "        alpha - скорость спуска\n",
        "        max_epoch - максимальное количество эпох\n",
        "        model_type - тим модели, lin_reg или log_reg\n",
        "        \"\"\"\n",
        "        \n",
        "        self.C = C\n",
        "        self.alpha = alpha\n",
        "        self.max_epoch = max_epoch\n",
        "        self.batch_generator = batch_generator\n",
        "        self.errors_log = {'iter' : [], 'loss' : []}  \n",
        "        self.model_type = model_type    \n",
        "        \n",
        "    \n",
        "    def calc_loss(self, X_batch, y_batch):\n",
        "        \"\"\"\n",
        "        Считаем функцию потерь по батчу \n",
        "        X_batch - матрица объекты-признаки по батчу\n",
        "        y_batch - вектор ответов по батчу\n",
        "        Не забудьте тип модели (линейная или логистическая регрессия)!\n",
        "        \"\"\"        \n",
        "        if self.model_type == \"lin_reg\":\n",
        "            a = X_batch @ self.weights\n",
        "            loss = 1 / len(y_batch) * np.sum((a - y_batch) ** 2)\n",
        "        else:\n",
        "            # self.model_type == \"log_reg\"\n",
        "\n",
        "            a = sigmoid(X_batch @ self.weights)\n",
        "            loss = 1 / len(y_batch) * (-y_batch.T @ np.log(a) - (1 - y_batch).T @ np.log(1 - a))[0]\n",
        "        \n",
        "        loss += 1 / self.C * (self.weights[1:] ** 2).sum()\n",
        "        \n",
        "        return loss\n",
        "    \n",
        "    \n",
        "    def calc_loss_grad(self, X_batch, y_batch):\n",
        "        \"\"\"\n",
        "        Считаем  градиент функции потерь по батчу (то что Вы вывели в задании 1)\n",
        "        X_batch - матрица объекты-признаки по батчу\n",
        "        y_batch - вектор ответов по батчу\n",
        "        Не забудте тип модели (линейная или логистическая регрессия)!\n",
        "        \"\"\"\n",
        "        \n",
        "        # для удобства представим посчитанное выше в матричном виде:\n",
        "        # nabla = 2/n * X.T (Xw - y) + 2/C * w           (lin_reg)\n",
        "        # nabla = 1/n * X.T (sigma(Xw) - y) + 2/C * w    (log_reg)\n",
        "        \n",
        "        loss_grad = np.zeros_like(self.weights)\n",
        "        loss_grad[1:] = 2 / self.C * self.weights[1:]\n",
        "        \n",
        "        \n",
        "        if self.model_type == \"lin_reg\":\n",
        "            a = X_batch @ self.weights\n",
        "            loss_grad += 2 / len(y_batch) * X_batch.T @ (a - y_batch)\n",
        "        else:\n",
        "            # self.model_type == \"log_reg\"\n",
        "\n",
        "            a = sigmoid(X_batch @ self.weights)\n",
        "            loss_grad += 1 / len(y_batch) * X_batch.T @ (a - y_batch)\n",
        "        \n",
        "        return loss_grad\n",
        "    \n",
        "    \n",
        "    def update_weights(self, new_grad):\n",
        "        \"\"\"\n",
        "        Обновляем вектор весов\n",
        "        new_grad - градиент по батчу\n",
        "        \"\"\"\n",
        "        \n",
        "        self.weights -= self.alpha * new_grad\n",
        "    \n",
        "    \n",
        "    def fit(self, X, y):\n",
        "        '''\n",
        "        Обучение модели\n",
        "        X - матрица объекты-признаки\n",
        "        y - вектор ответов\n",
        "        '''\n",
        "        \n",
        "        X = np.column_stack([[1]*X.shape[0], X])  # добавляем фиктивный столбец\n",
        "        y = y.copy().reshape(-1, 1)\n",
        "        \n",
        "        if self.model_type == \"lin_reg\":\n",
        "            y[y == 0] = -1\n",
        "    \n",
        "        self.weights = np.random.sample(X.shape[1]).reshape(-1, 1)  # w_0 уже там\n",
        "        for n in range(0, self.max_epoch):\n",
        "            new_epoch_generator = self.batch_generator(X, y)\n",
        "            for batch_num, (X_batch, y_batch) in enumerate(new_epoch_generator):\n",
        "                \n",
        "                batch_loss = self.calc_loss(X_batch, y_batch)\n",
        "                batch_grad = self.calc_loss_grad(X_batch, y_batch)\n",
        "                self.update_weights(batch_grad)\n",
        "\n",
        "                self.errors_log['iter'].append(batch_num)\n",
        "                self.errors_log['loss'].append(batch_loss)\n",
        "\n",
        "        return self\n",
        "        \n",
        "        \n",
        "    def predict(self, X, lin_th=0.0, log_th=0.5):\n",
        "        '''\n",
        "        Предсказание класса\n",
        "        X - матрица объекты-признаки\n",
        "        Не забудьте тип модели (линейная или логистическая регрессия)!\n",
        "        '''\n",
        "          \n",
        "        X = np.column_stack([[1]*X.shape[0], X])  # добавляем фиктивный столбец\n",
        "        \n",
        "        y_pred = (X @ self.weights).flatten()\n",
        "        \n",
        "        if self.model_type == \"lin_reg\":\n",
        "            y_pred = (y_pred > lin_th).astype(int)\n",
        "            # (sgn(y_pred) + 1 ) / 2 при стандартном пороге\n",
        "        else:\n",
        "            # self.model_type == \"log_reg\"\n",
        "            y_pred = (sigmoid(y_pred) > log_th).astype(int)\n",
        "        return y_pred\n",
        "        \n",
        "# Желательно здесь использовать матричные операции между X и весами, например, numpy.dot "
      ]
    },
    {
      "cell_type": "markdown",
      "metadata": {
        "id": "FcbcE1zwYJxm"
      },
      "source": [
        "Запустите обе регрессии на синтетических данных. \n",
        "\n",
        "\n",
        "Выведите полученные веса и нарисуйте разделяющую границу между классами (используйте только первых два веса для первых двух признаков X[:,0], X[:,1] для отображения в 2d пространство ).  "
      ]
    },
    {
      "cell_type": "code",
      "execution_count": 32,
      "metadata": {
        "jupyter": {
          "outputs_hidden": true
        },
        "id": "IYUHypJNYJxm"
      },
      "outputs": [],
      "source": [
        "def plot_decision_boundary(clf, color):\n",
        "    \"\"\"\n",
        "    Считаем, что clf.fit() вызвано заранее\n",
        "    \"\"\"\n",
        "    # print(clf.weights)\n",
        "    c, a, b, *rest = clf.weights\n",
        "    # a*x1 + b*x2 + c = 0\n",
        "    if abs(a) > 1e-7:\n",
        "        # x1 = -b/a * x2 - c/a\n",
        "        def x1(x2):\n",
        "            return -b/a * x2 - c/a\n",
        "            \n",
        "        x2_ = np.linspace(-5, 7, 5)\n",
        "        x1_ = np.asarray([x1(x2) for x2 in x2_])\n",
        "    elif abs(b) > 1e-7:\n",
        "        # x2 = -a/b * x2 - c/b\n",
        "        def x2(x1):\n",
        "            return -a/b * x1 - c/b\n",
        "            \n",
        "        x1_ = np.linspace(-5, 7, 5)\n",
        "        x2_ = np.asarray([x2(x1) for x1 in x1_])\n",
        "    else:\n",
        "        x1_=None\n",
        "        x2_=None\n",
        "    plt.plot(x1_, x2_, color=color)"
      ]
    },
    {
      "cell_type": "code",
      "execution_count": 41,
      "metadata": {
        "colab": {
          "base_uri": "https://localhost:8080/",
          "height": 265
        },
        "id": "fIqX5g7EYJxm",
        "outputId": "e49bf1b0-d8a5-4688-db85-2379d3055fe0"
      },
      "outputs": [
        {
          "output_type": "display_data",
          "data": {
            "text/plain": [
              "<Figure size 432x288 with 1 Axes>"
            ],
            "image/png": "[encoded data removed]"
          },
          "metadata": {
            "needs_background": "light"
          }
        }
      ],
      "source": [
        "C1 = np.array([[0., -0.8], [1.5, 0.8]])\n",
        "\n",
        "C2 = np.array([[1., -0.7], [2., 0.7]])\n",
        "gauss1 = np.dot(np.random.randn(200, 2) + np.array([5, 3]), C1)\n",
        "gauss2 = np.dot(np.random.randn(200, 2) + np.array([1.5, 0]), C2)\n",
        "\n",
        "X = np.vstack([gauss1, gauss2])\n",
        "y = np.r_[np.ones(200), np.zeros(200)]\n",
        "\n",
        "lin_reg = MySGDClassifier(batch_generator, C=10, max_epoch=30)\n",
        "lin_reg.fit(X, y)\n",
        "\n",
        "\n",
        "log_reg = MySGDClassifier(batch_generator, C=10, max_epoch=30, model_type='log_reg')\n",
        "log_reg.fit(X, y)\n",
        "\n",
        "plt.scatter(X[:,0], X[:,1], c=y)\n",
        "\n",
        "plot_decision_boundary(lin_reg, color='green')\n",
        "plot_decision_boundary(log_reg, color='blue')\n",
        "plt.scatter(X[:, 0], X[:, 1], c=y)\n",
        "plt.show()"
      ]
    },
    {
      "cell_type": "markdown",
      "metadata": {
        "id": "-zp66NldYJxn"
      },
      "source": [
        "Далее будем анализировать Ваш алгоритм. \n",
        "Для этих заданий используйте датасет ниже."
      ]
    },
    {
      "cell_type": "code",
      "execution_count": 34,
      "metadata": {
        "jupyter": {
          "outputs_hidden": true
        },
        "id": "E31khhjhYJxn"
      },
      "outputs": [],
      "source": [
        "from sklearn.datasets import make_classification"
      ]
    },
    {
      "cell_type": "code",
      "execution_count": 35,
      "metadata": {
        "jupyter": {
          "outputs_hidden": true
        },
        "id": "YEFQUF3vYJxo"
      },
      "outputs": [],
      "source": [
        "X, y = make_classification(n_samples=1000, n_features=10, \n",
        "                           n_informative=4, n_redundant=0, \n",
        "                           random_state=123, class_sep=1.0,\n",
        "                           n_clusters_per_class=1)"
      ]
    },
    {
      "cell_type": "markdown",
      "metadata": {
        "id": "IOuZZNG8YJxo"
      },
      "source": [
        "Покажите сходимости обеих регрессией на этом датасете: изобразите график  функции потерь, усредненной по $N$ шагам градиентого спуска, для разных `alpha` (размеров шага). Разные `alpha` расположите на одном графике. \n",
        "\n",
        "$N$ можно брать 10, 50, 100 и т.д. "
      ]
    },
    {
      "cell_type": "code",
      "execution_count": 36,
      "metadata": {
        "id": "6O6nEHoSYJxo"
      },
      "outputs": [],
      "source": [
        "from functools import partial"
      ]
    },
    {
      "cell_type": "code",
      "execution_count": 42,
      "metadata": {
        "jupyter": {
          "outputs_hidden": true
        },
        "colab": {
          "base_uri": "https://localhost:8080/",
          "height": 265
        },
        "id": "ECn1NLqmYJxp",
        "outputId": "20317e78-989d-42aa-fefd-2653bb2bf890"
      },
      "outputs": [
        {
          "output_type": "display_data",
          "data": {
            "text/plain": [
              "<Figure size 432x288 with 1 Axes>"
            ],
            "image/png": "[encoded data removed]"
          },
          "metadata": {
            "needs_background": "light"
          }
        }
      ],
      "source": [
        "N = 10\n",
        "\n",
        "for alpha in (0.001, 0.002, 0.003, 0.004, 0.005, 0.01):\n",
        "    clf = MySGDClassifier(partial(batch_generator, batch_size=100), C=0.1, alpha=alpha, max_epoch=30, model_type='log_reg')\n",
        "    clf.fit(X, y)\n",
        "    \n",
        "    losses = clf.errors_log['loss']\n",
        "    \n",
        "    mean_losses = [np.mean(losses[i:i+N]) for i in range(0, len(losses), N)]\n",
        "\n",
        "    plt.plot(np.arange(len(mean_losses)), mean_losses, label='alpha='+str(alpha))\n",
        "    plt.legend()"
      ]
    },
    {
      "cell_type": "markdown",
      "metadata": {
        "id": "28z5WEkYYJxp"
      },
      "source": [
        "Слишком маленькие альфы брать не нужно. С большими у меня правда тоже проблема..."
      ]
    },
    {
      "cell_type": "code",
      "execution_count": 43,
      "metadata": {
        "colab": {
          "base_uri": "https://localhost:8080/",
          "height": 265
        },
        "id": "0VLAn3XOYJxp",
        "outputId": "db154ba1-6c04-4a63-f6a3-312b5a79b89f"
      },
      "outputs": [
        {
          "output_type": "display_data",
          "data": {
            "text/plain": [
              "<Figure size 432x288 with 1 Axes>"
            ],
            "image/png": "[encoded data removed]"
          },
          "metadata": {
            "needs_background": "light"
          }
        }
      ],
      "source": [
        "N = 10\n",
        "\n",
        "for alpha in (0.001, 0.002, 0.003, 0.004, 0.005, 0.01):\n",
        "    clf = MySGDClassifier(partial(batch_generator, batch_size=100), C=0.1, alpha=alpha, max_epoch=30, model_type='lin_reg')\n",
        "    clf.fit(X, y)\n",
        "    \n",
        "    losses = clf.errors_log['loss']\n",
        "    \n",
        "    mean_losses = [np.mean(losses[i:i+N]) for i in range(0, len(losses), N)]\n",
        "\n",
        "    plt.plot(np.arange(len(mean_losses)), mean_losses, label='alpha='+str(alpha))\n",
        "    plt.legend()"
      ]
    },
    {
      "cell_type": "markdown",
      "metadata": {
        "id": "XryRNSeOYJxq"
      },
      "source": [
        "Изобразите график среднего значения весов для обеих регрессий в зависимости от коеф. регуляризации С из `np.logspace(3, -3, 10)` "
      ]
    },
    {
      "cell_type": "code",
      "execution_count": 44,
      "metadata": {
        "colab": {
          "base_uri": "https://localhost:8080/",
          "height": 525
        },
        "id": "G2I95UzgYJxq",
        "outputId": "a85e3481-7d14-48b7-ae34-b52f59ca2c86"
      },
      "outputs": [
        {
          "output_type": "stream",
          "name": "stderr",
          "text": [
            "/usr/local/lib/python3.7/dist-packages/ipykernel_launcher.py:48: RuntimeWarning: overflow encountered in double_scalars\n",
            "/usr/local/lib/python3.7/dist-packages/ipykernel_launcher.py:41: RuntimeWarning: overflow encountered in square\n",
            "/usr/local/lib/python3.7/dist-packages/ipykernel_launcher.py:48: RuntimeWarning: overflow encountered in square\n",
            "/usr/local/lib/python3.7/dist-packages/ipykernel_launcher.py:66: RuntimeWarning: overflow encountered in multiply\n",
            "/usr/local/lib/python3.7/dist-packages/ipykernel_launcher.py:87: RuntimeWarning: invalid value encountered in subtract\n",
            "/usr/local/lib/python3.7/dist-packages/ipykernel_launcher.py:46: RuntimeWarning: divide by zero encountered in log\n",
            "/usr/local/lib/python3.7/dist-packages/ipykernel_launcher.py:46: RuntimeWarning: invalid value encountered in matmul\n",
            "/usr/local/lib/python3.7/dist-packages/ipykernel_launcher.py:9: RuntimeWarning: overflow encountered in exp\n",
            "  if __name__ == '__main__':\n",
            "/usr/local/lib/python3.7/dist-packages/ipykernel_launcher.py:45: RuntimeWarning: invalid value encountered in matmul\n",
            "/usr/local/lib/python3.7/dist-packages/ipykernel_launcher.py:75: RuntimeWarning: invalid value encountered in matmul\n",
            "/usr/local/lib/python3.7/dist-packages/numpy/core/fromnumeric.py:86: RuntimeWarning: overflow encountered in reduce\n",
            "  return ufunc.reduce(obj, axis, dtype, out, **passkwargs)\n",
            "/usr/local/lib/python3.7/dist-packages/ipykernel_launcher.py:71: RuntimeWarning: invalid value encountered in matmul\n"
          ]
        },
        {
          "output_type": "execute_result",
          "data": {
            "text/plain": [
              "<matplotlib.legend.Legend at 0x7fac0592b990>"
            ]
          },
          "metadata": {},
          "execution_count": 44
        },
        {
          "output_type": "display_data",
          "data": {
            "text/plain": [
              "<Figure size 432x288 with 1 Axes>"
            ],
            "image/png": "[encoded data removed]"
          },
          "metadata": {
            "needs_background": "light"
          }
        }
      ],
      "source": [
        "mean_weights_lin = []\n",
        "mean_weights_log = []\n",
        "\n",
        "for C in np.logspace(-3, 3, 10):\n",
        "    my_model = MySGDClassifier(batch_generator, C=C, model_type='lin_reg')\n",
        "    my_model.fit(X, y)\n",
        "    mean_weights_lin.append((np.vectorize(abs)(my_model.weights)).mean())\n",
        "\n",
        "    my_model = MySGDClassifier(batch_generator, C=C, model_type='log_reg')\n",
        "    my_model.fit(X, y)\n",
        "    mean_weights_log.append((np.vectorize(abs)(my_model.weights)).mean())\n",
        "\n",
        "\n",
        "plt.plot(range(10, 0, -1), mean_weights_lin, label=\"lin_reg\")\n",
        "plt.plot(range(10, 0, -1), mean_weights_log, label=\"log_reg\")\n",
        "\n",
        "plt.legend()"
      ]
    },
    {
      "cell_type": "markdown",
      "metadata": {
        "id": "5YqecgsRYJxr"
      },
      "source": [
        "Довольны ли Вы, насколько сильно уменьшились Ваши веса? \n",
        "\n",
        "Ну они явно уменьшились..."
      ]
    },
    {
      "cell_type": "markdown",
      "metadata": {
        "id": "IITfSkvrYJxr"
      },
      "source": [
        "# Боевое применение (4  балла)\n",
        "\n",
        "**Защита данной части возможна только при преодолении в проекте бейзлайна Handmade baseline.**"
      ]
    },
    {
      "cell_type": "markdown",
      "metadata": {
        "id": "BGMoIlDGYJxr"
      },
      "source": [
        "Давайте применим модель на итоговом проекте! Датасет сделаем точно таким же образом, как было показано в project_overview.ipynb\n",
        "\n",
        "Применим обе регрессии, подберем для них параметры и сравним качество. Может быть Вы еще одновременно с решением домашней работы подрастете на лидерборде!"
      ]
    },
    {
      "cell_type": "code",
      "execution_count": 45,
      "metadata": {
        "colab": {
          "base_uri": "https://localhost:8080/"
        },
        "id": "qFL9Ju21YJxs",
        "outputId": "b6cddd2d-18c1-4080-c610-9e301089ca49"
      },
      "outputs": [
        {
          "output_type": "stream",
          "name": "stdout",
          "text": [
            "28026\n"
          ]
        }
      ],
      "source": [
        "doc_to_title = {}\n",
        "with open('docs_titles.tsv') as f:\n",
        "    for num_line, line in enumerate(f):\n",
        "        if num_line == 0:\n",
        "            continue\n",
        "        data = line.strip().split('\\t', 1)\n",
        "        doc_id = int(data[0])\n",
        "        if len(data) == 1:\n",
        "            title = ''\n",
        "        else:\n",
        "            title = data[1]\n",
        "        doc_to_title[doc_id] = title\n",
        "print (len(doc_to_title))\n"
      ]
    },
    {
      "cell_type": "code",
      "execution_count": 46,
      "metadata": {
        "collapsed": true,
        "jupyter": {
          "outputs_hidden": true
        },
        "id": "i7fOxyfHYJxt"
      },
      "outputs": [],
      "source": [
        "import pandas as pd\n",
        "train_data = pd.read_csv('train_groups.csv')\n",
        "traingroups_titledata = {}\n",
        "for i in range(len(train_data)):\n",
        "    new_doc = train_data.iloc[i]\n",
        "    doc_group = new_doc['group_id']\n",
        "    doc_id = new_doc['doc_id']\n",
        "    target = new_doc['target']\n",
        "    title = doc_to_title[doc_id]\n",
        "    if doc_group not in traingroups_titledata:\n",
        "        traingroups_titledata[doc_group] = []\n",
        "    traingroups_titledata[doc_group].append((doc_id, title, target))"
      ]
    },
    {
      "cell_type": "code",
      "execution_count": 47,
      "metadata": {
        "colab": {
          "base_uri": "https://localhost:8080/"
        },
        "id": "XN-aK0tUYJxt",
        "outputId": "f8e966f5-a445-4814-c38b-6b20ef80eae3"
      },
      "outputs": [
        {
          "output_type": "stream",
          "name": "stdout",
          "text": [
            "(11690, 15) (11690,) (11690,)\n"
          ]
        }
      ],
      "source": [
        "import numpy as np\n",
        "y_train = []\n",
        "X_train = []\n",
        "groups_train = []\n",
        "for new_group in traingroups_titledata:\n",
        "    docs = traingroups_titledata[new_group]\n",
        "    for k, (doc_id, title, target_id) in enumerate(docs):\n",
        "        y_train.append(target_id)\n",
        "        groups_train.append(new_group)\n",
        "        all_dist = []\n",
        "        words = set(title.strip().split())\n",
        "        for j in range(0, len(docs)):\n",
        "            if k == j:\n",
        "                continue\n",
        "            doc_id_j, title_j, target_j = docs[j]\n",
        "            words_j = set(title_j.strip().split())\n",
        "            all_dist.append(len(words.intersection(words_j)))\n",
        "        X_train.append(sorted(all_dist, reverse=True)[0:15])\n",
        "X_train = np.array(X_train)\n",
        "y_train = np.array(y_train)\n",
        "groups_train = np.array(groups_train)\n",
        "print (X_train.shape, y_train.shape, groups_train.shape)"
      ]
    },
    {
      "cell_type": "code",
      "source": [
        "test_data = pd.read_csv('test_groups.csv')\n",
        "testgroups_titledata = {}\n",
        "for i in range(len(test_data)):\n",
        "    new_doc = test_data.iloc[i]\n",
        "    doc_group = new_doc['group_id']\n",
        "    doc_id = new_doc['doc_id']\n",
        "    title = doc_to_title[doc_id]\n",
        "    if doc_group not in testgroups_titledata:\n",
        "        testgroups_titledata[doc_group] = []\n",
        "    testgroups_titledata[doc_group].append((doc_id, title))"
      ],
      "metadata": {
        "id": "qYR2Z1JmY9AP"
      },
      "execution_count": 48,
      "outputs": []
    },
    {
      "cell_type": "code",
      "source": [
        "X_test = []\n",
        "groups_test = []\n",
        "for new_group in testgroups_titledata:\n",
        "    docs = testgroups_titledata[new_group]\n",
        "    for k, (doc_id, title) in enumerate(docs):\n",
        "        groups_test.append(new_group)\n",
        "        all_dist = []\n",
        "        words = set(title.strip().split())\n",
        "        for j in range(0, len(docs)):\n",
        "            if k == j:\n",
        "                continue\n",
        "            doc_id_j, title_j = docs[j]\n",
        "            words_j = set(title_j.strip().split())\n",
        "            all_dist.append(len(words.intersection(words_j)))\n",
        "        X_test.append(sorted(all_dist, reverse=True)[0:15]    )\n",
        "X_test = np.array(X_test)\n",
        "groups_test = np.array(groups_test)\n",
        "print(X_test.shape, groups_test.shape)"
      ],
      "metadata": {
        "colab": {
          "base_uri": "https://localhost:8080/"
        },
        "id": "WTt4tPPcY94_",
        "outputId": "c8656c4e-60f6-489b-ae80-693327e6b7bf"
      },
      "execution_count": 49,
      "outputs": [
        {
          "output_type": "stream",
          "name": "stdout",
          "text": [
            "(16627, 15) (16627,)\n"
          ]
        }
      ]
    },
    {
      "cell_type": "markdown",
      "metadata": {
        "id": "z3hAYjSGYJxu"
      },
      "source": [
        "Подберите размер батча для обучения. Линейная модель не должна учиться дольше нескольких минут. \n",
        "\n",
        "Не забывайте использовать скейлер!"
      ]
    },
    {
      "cell_type": "code",
      "execution_count": 22,
      "metadata": {
        "tags": [],
        "id": "FylzmX_XYJxu"
      },
      "outputs": [],
      "source": [
        "from sklearn.metrics import f1_score\n",
        "from sklearn.linear_model import LinearRegression\n",
        "from sklearn.preprocessing import StandardScaler"
      ]
    },
    {
      "cell_type": "code",
      "execution_count": 50,
      "metadata": {
        "collapsed": true,
        "jupyter": {
          "outputs_hidden": true
        },
        "id": "p1_ni2CrYJxu"
      },
      "outputs": [],
      "source": [
        "scaler = StandardScaler()\n",
        "X_train_transformed = scaler.fit_transform(X_train)\n",
        "X_test_transformed = scaler.transform(X_test)"
      ]
    },
    {
      "cell_type": "code",
      "source": [
        "my_model = MySGDClassifier(partial(batch_generator, batch_size=200), C=10, max_epoch=100, model_type=\"lin_reg\")"
      ],
      "metadata": {
        "id": "NeYID5asZFSV"
      },
      "execution_count": 51,
      "outputs": []
    },
    {
      "cell_type": "code",
      "execution_count": 55,
      "metadata": {
        "tags": [],
        "colab": {
          "base_uri": "https://localhost:8080/"
        },
        "id": "d3mu6hyAYJxv",
        "outputId": "3cc3af39-7416-4afb-ceff-7caa38ed41bc"
      },
      "outputs": [
        {
          "output_type": "execute_result",
          "data": {
            "text/plain": [
              "MySGDClassifier(C=10,\n",
              "                batch_generator=functools.partial(<function batch_generator at 0x7fac18db7320>, batch_size=200),\n",
              "                max_epoch=100)"
            ]
          },
          "metadata": {},
          "execution_count": 55
        }
      ],
      "source": [
        "my_model.fit(X_train_transformed, y_train)"
      ]
    },
    {
      "cell_type": "code",
      "source": [
        "f1_score(y_train, my_model.predict(X_train_transformed))"
      ],
      "metadata": {
        "colab": {
          "base_uri": "https://localhost:8080/"
        },
        "id": "VEUBtwqwaFb0",
        "outputId": "4638391b-5216-4700-a5a9-c633f7e722b5"
      },
      "execution_count": 56,
      "outputs": [
        {
          "output_type": "execute_result",
          "data": {
            "text/plain": [
              "0.5183055395821353"
            ]
          },
          "metadata": {},
          "execution_count": 56
        }
      ]
    },
    {
      "cell_type": "markdown",
      "metadata": {
        "id": "OLnT88cEYJxv"
      },
      "source": [
        "Разбейте данные на обучение и валидацию. Подберите параметры C, alpha, max_epoch, model_type на валидации (Вы же помните, как правильно в этой задаче делать валидацию?)"
      ]
    },
    {
      "cell_type": "code",
      "execution_count": null,
      "metadata": {
        "collapsed": true,
        "jupyter": {
          "outputs_hidden": true
        },
        "id": "_TxgJYRNYJxv"
      },
      "outputs": [],
      "source": [
        "from sklearn.model_selection import GridSearchCV\n",
        "from sklearn.metrics import make_scorer\n",
        "\n",
        "parameters = {\n",
        "    'C': np.logspace(-3, 3, 6),\n",
        "    'alpha': [0.005, 0.01, 0.05],\n",
        "    'max_epoch': [50, 100],\n",
        "    'model_type': [\"lin_reg\", \"log_reg\"]\n",
        "}\n",
        "\n",
        "\n",
        "my_model = MySGDClassifier(partial(batch_generator, batch_size=200))\n",
        "clf = GridSearchCV(my_model, parameters, scoring=make_scorer(f1_score), cv=3)\n",
        "\n",
        "\n",
        "clf.fit(X_train_transformed, y_train)"
      ]
    },
    {
      "cell_type": "code",
      "source": [
        "clf.best_params_, clf.best_score_"
      ],
      "metadata": {
        "colab": {
          "base_uri": "https://localhost:8080/"
        },
        "id": "Ewcht-nBdhAL",
        "outputId": "47be839f-d252-4157-a3c9-d41acb585366"
      },
      "execution_count": 58,
      "outputs": [
        {
          "output_type": "execute_result",
          "data": {
            "text/plain": [
              "({'C': 63.0957344480193,\n",
              "  'alpha': 0.005,\n",
              "  'max_epoch': 50,\n",
              "  'model_type': 'log_reg'},\n",
              " 0.561589352202504)"
            ]
          },
          "metadata": {},
          "execution_count": 58
        }
      ]
    },
    {
      "cell_type": "markdown",
      "metadata": {
        "id": "6AMhRcwHYJxv"
      },
      "source": [
        "Подберите порог линейной модели, по достижении которого, Вы будете относить объект к классу 1. Вспомните, какую метрику мы оптимизируем в соревновании.  Как тогда правильно подобрать порог?"
      ]
    },
    {
      "cell_type": "code",
      "execution_count": 59,
      "metadata": {
        "collapsed": true,
        "jupyter": {
          "outputs_hidden": true
        },
        "colab": {
          "base_uri": "https://localhost:8080/"
        },
        "id": "XA2airRAYJxv",
        "outputId": "9c0ab903-711b-410c-84de-b1de247de8ce"
      },
      "outputs": [
        {
          "output_type": "stream",
          "name": "stderr",
          "text": [
            "/usr/local/lib/python3.7/dist-packages/ipykernel_launcher.py:46: RuntimeWarning: divide by zero encountered in log\n",
            "/usr/local/lib/python3.7/dist-packages/ipykernel_launcher.py:46: RuntimeWarning: invalid value encountered in matmul\n"
          ]
        },
        {
          "output_type": "execute_result",
          "data": {
            "text/plain": [
              "MySGDClassifier(C=63.0957344480193, alpha=0.005,\n",
              "                batch_generator=functools.partial(<function batch_generator at 0x7fac18db7320>, batch_size=200),\n",
              "                max_epoch=50, model_type='log_reg')"
            ]
          },
          "metadata": {},
          "execution_count": 59
        }
      ],
      "source": [
        "my_model = MySGDClassifier(partial(batch_generator, batch_size=200), C=63.0957344480193, alpha=0.005, max_epoch=50, model_type='log_reg')\n",
        "my_model.fit(X_train_transformed, y_train)"
      ]
    },
    {
      "cell_type": "code",
      "execution_count": 60,
      "metadata": {
        "collapsed": true,
        "jupyter": {
          "outputs_hidden": true
        },
        "colab": {
          "base_uri": "https://localhost:8080/"
        },
        "id": "-MZRM8OfYJxw",
        "outputId": "5c2b439c-bddd-4310-93f6-ae0295ce1e4b"
      },
      "outputs": [
        {
          "output_type": "stream",
          "name": "stdout",
          "text": [
            "0.2 :  0.573945753316175\n",
            "0.25 :  0.6111043909519778\n",
            "0.3 :  0.6180985725828172\n",
            "0.35 :  0.6146816037735849\n",
            "0.4 :  0.5946555054732775\n",
            "0.45 :  0.567090395480226\n",
            "0.5 :  0.5432968663081773\n",
            "0.55 :  0.5126618983181905\n",
            "0.6 :  0.47046801553239315\n"
          ]
        }
      ],
      "source": [
        "scores = []\n",
        "choise = [0.2, 0.25, 0.3, 0.35, 0.4, 0.45, 0.5, 0.55, 0.6]\n",
        "\n",
        "for th in choise:\n",
        "  scores.append(f1_score(my_model.predict(X_train_transformed, log_th=th), y_train))\n",
        "\n",
        "for i in range(len(choise)):\n",
        "  print(choise[i], ': ', scores[i])\n",
        "\n",
        "# 0.4"
      ]
    },
    {
      "cell_type": "markdown",
      "metadata": {
        "id": "n4yb671SYJxw"
      },
      "source": [
        "С лучшими параметрами на валидации сделайте предсказание на тестовом множестве, отправьте его на проверку на платформу kaggle. Убедитесь, что Вы смогли побить public score первого бейзлайна."
      ]
    },
    {
      "cell_type": "markdown",
      "metadata": {
        "id": "Yw1-M0QIYJxw"
      },
      "source": [
        "** При сдаче домашки Вам необходимо кроме ссылки на ноутбук показать Ваш ник на kaggle, под которым Вы залили решение, которое побило Handmade baseline. **"
      ]
    },
    {
      "cell_type": "markdown",
      "metadata": {
        "id": "yZsOOEmuYJxx"
      },
      "source": [
        "# Фидбек (бесценно)"
      ]
    },
    {
      "cell_type": "markdown",
      "metadata": {
        "id": "IuBhw9k2YJxx"
      },
      "source": [
        "* Какие аспекты обучения линейных моделей Вам показались непонятными? Какое место стоит дополнительно объяснить?"
      ]
    },
    {
      "cell_type": "markdown",
      "metadata": {
        "id": "dSxfOgePYJxx"
      },
      "source": [
        "***Ваше ответ здесь***"
      ]
    },
    {
      "cell_type": "markdown",
      "metadata": {
        "id": "JtCPSHFTYJxy"
      },
      "source": [
        "* Здесь Вы можете оставить отзыв о этой домашней работе или о всем курсе.   "
      ]
    },
    {
      "cell_type": "markdown",
      "metadata": {
        "id": "9msZyZ0xYJxy"
      },
      "source": [
        "*** ВАШ ОТЗЫВ ЗДЕСЬ***"
      ]
    },
    {
      "cell_type": "code",
      "execution_count": null,
      "metadata": {
        "collapsed": true,
        "jupyter": {
          "outputs_hidden": true
        },
        "id": "xIqV0jdKYJxz"
      },
      "outputs": [],
      "source": [
        ""
      ]
    },
    {
      "cell_type": "code",
      "execution_count": null,
      "metadata": {
        "collapsed": true,
        "jupyter": {
          "outputs_hidden": true
        },
        "id": "P9fNUpx8YJxz"
      },
      "outputs": [],
      "source": [
        ""
      ]
    }
  ],
  "metadata": {
    "anaconda-cloud": {},
    "kernelspec": {
      "display_name": "Python 3",
      "language": "python",
      "name": "python3"
    },
    "language_info": {
      "codemirror_mode": {
        "name": "ipython",
        "version": 3
      },
      "file_extension": ".py",
      "mimetype": "text/x-python",
      "name": "python",
      "nbconvert_exporter": "python",
      "pygments_lexer": "ipython3",
      "version": "3.8.5"
    },
    "nav_menu": {},
    "toc": {
      "colors": {
        "hover_highlight": "#DAA520",
        "navigate_num": "#000000",
        "navigate_text": "#333333",
        "running_highlight": "#FF0000",
        "selected_highlight": "#FFD700",
        "sidebar_border": "#EEEEEE",
        "wrapper_background": "#FFFFFF"
      },
      "moveMenuLeft": true,
      "nav_menu": {
        "height": "402px",
        "width": "253px"
      },
      "navigate_menu": true,
      "number_sections": false,
      "sideBar": true,
      "threshold": 4,
      "toc_cell": false,
      "toc_section_display": "block",
      "toc_window_display": true,
      "widenNotebook": false
    },
    "colab": {
      "name": "hw2_almost_last_version.ipynb",
      "provenance": [],
      "collapsed_sections": []
    }
  },
  "nbformat": 4,
  "nbformat_minor": 0
}